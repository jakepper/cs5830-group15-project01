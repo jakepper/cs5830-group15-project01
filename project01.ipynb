{
 "cells": [
  {
   "cell_type": "markdown",
   "metadata": {},
   "source": [
    "# cs5830 - Group 15 - Project 1"
   ]
  },
  {
   "attachments": {},
   "cell_type": "markdown",
   "metadata": {},
   "source": [
    "# Imports"
   ]
  },
  {
   "cell_type": "code",
   "execution_count": null,
   "metadata": {},
   "outputs": [],
   "source": [
    "import pandas as pd\n",
    "import numpy as np\n",
    "import matplotlib.pyplot as plt"
   ]
  },
  {
   "attachments": {},
   "cell_type": "markdown",
   "metadata": {},
   "source": [
    "## Average Salary per Team"
   ]
  },
  {
   "cell_type": "code",
   "execution_count": null,
   "metadata": {},
   "outputs": [],
   "source": [
    "salaries = pd.read_csv(\"baseballdatabank-2022.2/contrib/Salaries.csv\")\n",
    "# salaries.info()"
   ]
  },
  {
   "cell_type": "code",
   "execution_count": null,
   "metadata": {},
   "outputs": [],
   "source": [
    "avg_salaries = salaries.groupby('teamID').agg({'salary':'mean'}).reset_index().sort_values('salary')\n",
    "# display(avg_salaries)\n",
    "\n",
    "fig = plt.figure(figsize = (15, 5))\n",
    " \n",
    "# creating the bar plot\n",
    "plt.bar(avg_salaries['teamID'], avg_salaries['salary'], color ='maroon', width = 0.6)\n",
    "plt.xticks(rotation=45)\n",
    "\n",
    "plt.xlabel(\"Team Name\")\n",
    "plt.ylabel(\"Average Salary\")\n",
    "plt.title(\"Average Salary of Players per Team\")\n",
    "plt.show()"
   ]
  },
  {
   "attachments": {},
   "cell_type": "markdown",
   "metadata": {},
   "source": [
    "## Stolen Bases vs Caught Stealing"
   ]
  },
  {
   "cell_type": "code",
   "execution_count": null,
   "metadata": {},
   "outputs": [],
   "source": [
    "# avg each players stats\n",
    "# scatter plot\n",
    "\n",
    "batting = pd.read_csv(\"baseballdatabank-2022.2/core/Batting.csv\")\n",
    "batting.info()\n",
    "\n",
    "df = batting.groupby('playerID').agg({'SB':'sum', 'CS':'sum'})\n",
    "\n",
    "plt.scatter(df['CS'], df['SB'], s=8)\n",
    "x = np.linspace(0, 400, 10)\n",
    "plt.plot(x, x, '-r')\n",
    "plt.ylabel(\"Stolen Bases\")\n",
    "plt.xlabel(\"Caught Stealing\")\n",
    "plt.title(\"Stolen Bases VS Caught Stealing\")\n",
    "plt.show()"
   ]
  },
  {
   "attachments": {},
   "cell_type": "markdown",
   "metadata": {},
   "source": [
    "## Number of All-Stars from each team?"
   ]
  },
  {
   "cell_type": "code",
   "execution_count": null,
   "metadata": {},
   "outputs": [],
   "source": [
    "# year increments?"
   ]
  },
  {
   "attachments": {},
   "cell_type": "markdown",
   "metadata": {},
   "source": [
    "## Percentage of Players Who Retired Each Year"
   ]
  },
  {
   "cell_type": "code",
   "execution_count": null,
   "metadata": {},
   "outputs": [],
   "source": [
    "# line graph"
   ]
  }
 ],
 "metadata": {
  "kernelspec": {
   "display_name": "base",
   "language": "python",
   "name": "python3"
  },
  "language_info": {
   "codemirror_mode": {
    "name": "ipython",
    "version": 3
   },
   "file_extension": ".py",
   "mimetype": "text/x-python",
   "name": "python",
   "nbconvert_exporter": "python",
   "pygments_lexer": "ipython3",
   "version": "3.9.13"
  },
  "orig_nbformat": 4,
  "vscode": {
   "interpreter": {
    "hash": "33e8d34c4286e255dc7bda995998a10bb1ffd0b5e9b3314186320ec7fc8d2353"
   }
  }
 },
 "nbformat": 4,
 "nbformat_minor": 2
}
