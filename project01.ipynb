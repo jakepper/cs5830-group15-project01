{
 "cells": [
  {
   "cell_type": "markdown",
   "metadata": {},
   "source": [
    "# cs5830 - Group 15 - Project 1"
   ]
  },
  {
   "cell_type": "markdown",
   "metadata": {},
   "source": [
    "## Imports"
   ]
  },
  {
   "cell_type": "code",
   "execution_count": null,
   "metadata": {},
   "outputs": [],
   "source": [
    "import pandas as pd\n",
    "import numpy as np\n",
    "import matplotlib.pyplot as plt\n",
    "import seaborn as sns"
   ]
  },
  {
   "cell_type": "markdown",
   "metadata": {},
   "source": [
    "## Analysis 1 - Average Salary per Team"
   ]
  },
  {
   "cell_type": "code",
   "execution_count": null,
   "metadata": {},
   "outputs": [],
   "source": [
    "salaries = pd.read_csv(\"baseballdatabank-2022.2/contrib/Salaries.csv\")\n",
    "avg_salaries = salaries.groupby('teamID').agg({'salary':'mean'}).reset_index().sort_values('salary')\n",
    " \n",
    "# creating the bar plot\n",
    "plt.figure(num=1, figsize=(15,5))\n",
    "ax = sns.barplot(data=avg_salaries, x='teamID', y='salary')\n",
    "ax.set_xlabel('Team')\n",
    "ax.set_ylabel('Average Salary')"
   ]
  },
  {
   "cell_type": "markdown",
   "metadata": {},
   "source": [
    "## Analysis 2 - Stolen Bases vs Caught Stealing"
   ]
  },
  {
   "cell_type": "code",
   "execution_count": null,
   "metadata": {},
   "outputs": [],
   "source": [
    "batting = pd.read_csv(\"baseballdatabank-2022.2/core/Batting.csv\")\n",
    "SB_and_CS = batting.groupby('playerID').agg({'SB':'sum', 'CS':'sum'})\n",
    "\n",
    "plt.figure(num=2)\n",
    "ax = sns.scatterplot(data=SB_and_CS, x='CS', y='SB', s=12)\n",
    "x = np.linspace(0, 400, 10)\n",
    "ax.plot(x, x, '-r')\n",
    "ax.set_ylabel(\"Stolen Bases\")\n",
    "ax.set_xlabel(\"Caught Stealing\")\n",
    "ax.set_title(\"Stolen Bases VS Caught Stealing\")\n",
    "plt.xlim(-5, 225)\n",
    "plt.ylim(-25, 1000)"
   ]
  },
  {
   "cell_type": "markdown",
   "metadata": {},
   "source": [
    "## Analysis 3 - Percentage of All Star Players From Each Team in 20 year intervals"
   ]
  },
  {
   "cell_type": "code",
   "execution_count": null,
   "metadata": {},
   "outputs": [],
   "source": [
    "# split into 20 year intervals\n",
    "df = pd.read_csv(\"./baseballdatabank-2022.2/core/AllStarFull.csv\")\n",
    "df['decade'] = (20 * (df['yearID'] // 20)).astype(str)\n",
    "\n",
    "def set_custom_palette(series, max_color = 'blue', other_color = 'grey'):\n",
    "    max_val = series.mode()[0];\n",
    "    pal = []\n",
    "    \n",
    "    for item in series.unique():\n",
    "        if item == max_val:\n",
    "            pal.append(max_color)\n",
    "        else:\n",
    "            pal.append(other_color)\n",
    "    return pal\n",
    "\n",
    "for decade in df['decade'].unique():\n",
    "    group = df[df.decade == decade]\n",
    "    plt.figure(num=decade, figsize=(15,5))\n",
    "    palette=set_custom_palette(group['teamID'])\n",
    "    ax = sns.histplot(data=group, x='teamID', stat='percent', hue='teamID', palette=palette)\n",
    "    ax.set_title(f\"Percentage of All Star Player's from Each Team ({decade}-{int(decade)+10}'s)\")\n",
    "    ax.legend_.remove()\n",
    "    "
   ]
  },
  {
   "cell_type": "markdown",
   "metadata": {},
   "source": [
    "## Analysis 4 - Number of Players Who Retired Each Year"
   ]
  },
  {
   "cell_type": "code",
   "execution_count": null,
   "metadata": {},
   "outputs": [],
   "source": [
    "# finalGame (first four digits) year for each player\n",
    "players = pd.read_csv(\"./baseballdatabank-2022.2/core/People.csv\")\n",
    "players['finalYear'] = players['finalGame'].str[:4]\n",
    "\n",
    "plt.figure()\n",
    "yearlyRetirees = players.groupby('finalYear').agg({'playerID': 'count'})\n",
    "retired_graph = yearlyRetirees.plot.line()\n",
    "retired_graph.set_xlabel('Year of Retirement')\n",
    "retired_graph.set_ylabel('# of Players')\n",
    "retired_graph.set_title('Number of Players that Retired Each Year')\n",
    "retired_graph.legend_.remove()\n",
    "retired_graph.set_ylim(0, 500)"
   ]
  },
  {
   "cell_type": "code",
   "execution_count": null,
   "metadata": {},
   "outputs": [],
   "source": []
  }
 ],
 "metadata": {
  "kernelspec": {
   "display_name": "Python 3 (ipykernel)",
   "language": "python",
   "name": "python3"
  },
  "language_info": {
   "codemirror_mode": {
    "name": "ipython",
    "version": 3
   },
   "file_extension": ".py",
   "mimetype": "text/x-python",
   "name": "python",
   "nbconvert_exporter": "python",
   "pygments_lexer": "ipython3",
   "version": "3.9.13"
  },
  "vscode": {
   "interpreter": {
    "hash": "33e8d34c4286e255dc7bda995998a10bb1ffd0b5e9b3314186320ec7fc8d2353"
   }
  }
 },
 "nbformat": 4,
 "nbformat_minor": 2
}
